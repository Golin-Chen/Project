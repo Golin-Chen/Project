{
  "nbformat": 4,
  "nbformat_minor": 0,
  "metadata": {
    "colab": {
      "provenance": [],
      "machine_shape": "hm",
      "gpuType": "A100"
    },
    "kernelspec": {
      "name": "python3",
      "display_name": "Python 3"
    },
    "language_info": {
      "name": "python"
    },
    "accelerator": "GPU"
  },
  "cells": [
    {
      "cell_type": "code",
      "execution_count": null,
      "metadata": {
        "id": "b1NEwGR9ubc-"
      },
      "outputs": [],
      "source": [
        "import os\n",
        "os.environ[\"LC_ALL\"] = \"C.UTF-8\"\n",
        "os.environ[\"LANG\"] = \"C.UTF-8\"\n",
        "os.environ[\"PYTHONIOENCODING\"] = \"utf-8\""
      ]
    },
    {
      "cell_type": "code",
      "source": [
        "import cupy as cp\n",
        "print(\"CuPy Version:\", cp.__version__)\n",
        "print(\"CUDA Available:\", cp.cuda.is_available())\n",
        "print(\"GPU Compute Capability:\", cp.cuda.Device(0).compute_capability)"
      ],
      "metadata": {
        "id": "YaN2pGyKur4n"
      },
      "execution_count": null,
      "outputs": []
    },
    {
      "cell_type": "code",
      "source": [
        "!apt-get update && apt-get install -y locales\n",
        "!locale-gen en_US.UTF-8\n",
        "!update-locale LANG=en_US.UTF-8"
      ],
      "metadata": {
        "id": "gXi8VXQVuxr9"
      },
      "execution_count": null,
      "outputs": []
    },
    {
      "cell_type": "code",
      "source": [
        "!nvidia-smi"
      ],
      "metadata": {
        "id": "HY1dbChDuxZz"
      },
      "execution_count": null,
      "outputs": []
    },
    {
      "cell_type": "code",
      "source": [
        "!pip install -q \"cuda-python<13.0a0,>=12.0\" \"numba>=0.59.1,<0.60\""
      ],
      "metadata": {
        "id": "76nwhTgWu6Ja"
      },
      "execution_count": null,
      "outputs": []
    },
    {
      "cell_type": "code",
      "source": [
        "!pip install -q \"cupy-cuda12x\" \"cudf-cu12\" \"cuml-cu12\" \"rmm-cu12\" \"pylibraft-cu12\" \"pylibcudf-cu12\" -f https://pypi.nvidia.com\n"
      ],
      "metadata": {
        "id": "jwHh-JWku_Ns"
      },
      "execution_count": null,
      "outputs": []
    },
    {
      "cell_type": "code",
      "source": [
        "!pip install -q pandas numpy scipy scikit-learn\n"
      ],
      "metadata": {
        "id": "yoaZa7PJvYlt"
      },
      "execution_count": null,
      "outputs": []
    },
    {
      "cell_type": "code",
      "source": [
        "import cupy as cp\n",
        "print(\"CuPy Version:\", cp.__version__)\n",
        "print(\"CUDA Available:\", cp.cuda.is_available())\n",
        "import cudf\n",
        "import cuml\n",
        "print(\"cuDF Version:\", cudf.__version__)\n",
        "print(\"cuML Version:\", cuml.__version__)"
      ],
      "metadata": {
        "id": "9UqKRYAIvbI8"
      },
      "execution_count": null,
      "outputs": []
    },
    {
      "cell_type": "code",
      "source": [
        "import pandas as pd\n",
        "import numpy as np\n",
        "import matplotlib.pyplot as plt\n",
        "import seaborn as sns\n",
        "import sklearn as sk\n",
        "from cuml.svm import SVC\n",
        "import numpy as np\n",
        "import pandas as pd\n",
        "from sklearn.model_selection import train_test_split\n",
        "from cuml.model_selection import StratifiedKFold\n",
        "from cuml.preprocessing import LabelEncoder"
      ],
      "metadata": {
        "id": "v3oaVfHIvf7b"
      },
      "execution_count": null,
      "outputs": []
    },
    {
      "cell_type": "code",
      "source": [
        "import locale\n",
        "locale.getpreferredencoding = lambda: \"UTF-8\"\n",
        "print(\"Preferred Encoding:\", locale.getpreferredencoding())"
      ],
      "metadata": {
        "id": "vuAdLcwlviPw"
      },
      "execution_count": null,
      "outputs": []
    },
    {
      "cell_type": "code",
      "source": [
        "file_path = \"loan_data.csv.csv\"\n",
        "loan_dataset_gpu = cudf.read_csv(file_path)"
      ],
      "metadata": {
        "id": "P38mp6mKvs5H"
      },
      "execution_count": null,
      "outputs": []
    },
    {
      "cell_type": "code",
      "source": [
        "loan_dataset_gpu = cudf.read_csv(file_path)"
      ],
      "metadata": {
        "id": "bsuPbhnqv0sW"
      },
      "execution_count": null,
      "outputs": []
    },
    {
      "cell_type": "code",
      "source": [
        "loan_dataset_gpu['grade'].value_counts()"
      ],
      "metadata": {
        "id": "dJJSm7DnwSEM"
      },
      "execution_count": null,
      "outputs": []
    },
    {
      "cell_type": "code",
      "source": [
        "grade_mapping = {\n",
        "    'A': 0,\n",
        "    'B': 1,\n",
        "    'C': 2,\n",
        "    'D': 3,\n",
        "    'E': 4,\n",
        "    'F': 5,\n",
        "    'G': 6\n",
        "}\n",
        "\n",
        "loan_dataset_gpu['grade'] = loan_dataset_gpu['grade'].map(grade_mapping)"
      ],
      "metadata": {
        "id": "w4lmkM_GwWmR"
      },
      "execution_count": null,
      "outputs": []
    },
    {
      "cell_type": "code",
      "source": [
        "loan_dataset_gpu['grade'].value_counts()"
      ],
      "metadata": {
        "id": "VBGCZNqlwYP8"
      },
      "execution_count": null,
      "outputs": []
    },
    {
      "cell_type": "code",
      "source": [
        "loan_dataset_gpu = loan_dataset_gpu.drop(columns=['sub_grade', 'id'])"
      ],
      "metadata": {
        "id": "3UxQnNCGwdEI"
      },
      "execution_count": null,
      "outputs": []
    },
    {
      "cell_type": "code",
      "source": [
        "loan_dataset_gpu_processed = loan_dataset_gpu.copy()"
      ],
      "metadata": {
        "id": "46_VwqUgwlli"
      },
      "execution_count": null,
      "outputs": []
    },
    {
      "cell_type": "code",
      "source": [
        "y = loan_dataset_gpu_processed[\"grade\"]\n",
        "X = loan_dataset_gpu_processed.drop(columns=['grade'])"
      ],
      "metadata": {
        "id": "1bWtYw3fweIX"
      },
      "execution_count": null,
      "outputs": []
    },
    {
      "cell_type": "code",
      "source": [
        "numerical_columns = X.select_dtypes(include=['int64', 'float64']).columns\n",
        "categorical_columns = X.select_dtypes(include=['object']).columns\n"
      ],
      "metadata": {
        "id": "3hveg8XmwoPs"
      },
      "execution_count": null,
      "outputs": []
    },
    {
      "cell_type": "code",
      "source": [
        "from cuml.preprocessing import StandardScaler\n",
        "scaler = StandardScaler()\n",
        "X[numerical_columns] = scaler.fit_transform(X[numerical_columns])\n",
        "X = cudf.get_dummies(X, columns=categorical_columns)\n",
        "bool_columns = X.select_dtypes(include=['bool']).columns\n",
        "\n",
        "X[bool_columns] = X[bool_columns].astype(int)\n",
        "\n",
        "\n",
        "X_train, X_test, y_train, y_test = train_test_split(X, y, test_size=0.2, random_state=42)\n",
        "\n",
        "X_train_pd = X_train.to_pandas()\n",
        "y_train_pd = y_train.to_pandas()\n",
        "from imblearn.over_sampling import SMOTE\n",
        "smote = SMOTE(random_state=42)\n",
        "X_train_bal, y_train_bal = smote.fit_resample(X_train_pd, y_train_pd)"
      ],
      "metadata": {
        "id": "7zr10Tnaw2LT"
      },
      "execution_count": null,
      "outputs": []
    },
    {
      "cell_type": "code",
      "source": [
        "X_train_bal_cudf = cudf.DataFrame(X_train_bal)\n",
        "X_test_cudf = cudf.DataFrame(X_test)\n",
        "\n",
        "X_train_bal_cp =  X_train_bal_cudf.to_cupy().astype(cp.float32)\n",
        "X_test_cp = X_test_cudf.to_cupy().astype(cp.float32)"
      ],
      "metadata": {
        "id": "-xSFnQsxxymJ"
      },
      "execution_count": null,
      "outputs": []
    },
    {
      "cell_type": "code",
      "source": [
        "y_train_bal_cudf = cudf.Series(y_train_bal)\n",
        "y_test_bal_cudf = cudf.Series(y_test)\n",
        "\n",
        "y_train_bal_cp = y_train_bal_cudf.to_cupy()\n",
        "\n",
        "y_test_cp = y_test_bal_cudf.to_cupy()"
      ],
      "metadata": {
        "id": "d4VDZtqfx-5T"
      },
      "execution_count": null,
      "outputs": []
    },
    {
      "cell_type": "code",
      "source": [
        "import cupy as cp\n",
        "\n",
        "print(\"Unique classes in y_train_gpu:\", cp.unique(y_train_bal_cudf))\n",
        "print(\"Class counts:\\n\", cudf.DataFrame(y_train_bal_cudf).value_counts())"
      ],
      "metadata": {
        "id": "j2gk1IZByHS9"
      },
      "execution_count": null,
      "outputs": []
    },
    {
      "cell_type": "code",
      "source": [
        "print(f\"X_train_pca_cudf shape: {X_train_bal_cudf.shape}\")\n",
        "print(f\"y_train_gpu shape: {y_train_bal_cudf.shape}\")"
      ],
      "metadata": {
        "id": "oARebJcPyLaD"
      },
      "execution_count": null,
      "outputs": []
    },
    {
      "cell_type": "code",
      "source": [
        "num_folds_bal = 10\n",
        "kf_bal = StratifiedKFold(n_splits=num_folds_bal, shuffle=True)\n",
        "scores_bal = []"
      ],
      "metadata": {
        "id": "DsGPg-j6yMtp"
      },
      "execution_count": null,
      "outputs": []
    },
    {
      "cell_type": "code",
      "source": [
        "from cuml.multiclass import OneVsRestClassifier\n",
        "non_pca_bal_svm_model_2 = SVC(kernel=\"rbf\",  C=1.0, class_weight=\"balanced\", gamma='scale')\n",
        "non_pca_bal_svm_gpu_2 = OneVsRestClassifier(non_pca_bal_svm_model_2)\n",
        "\n",
        "for train_index_bal, val_index_bal in kf_bal.split(X_train_bal_cp, y_train_bal_cp):\n",
        "    X_train_fold_bal, X_val_fold_bal = X_train_bal_cp[train_index_bal], X_train_bal_cp[val_index_bal]\n",
        "    y_train_fold_bal, y_val_fold_bal = y_train_bal_cp[train_index_bal], y_train_bal_cp[val_index_bal]\n",
        "\n",
        "\n",
        "    non_pca_bal_svm_gpu_2.fit(X_train_fold_bal, y_train_fold_bal)\n",
        "\n",
        "    accuracy_bal = non_pca_bal_svm_gpu_2.score(X_val_fold_bal, y_val_fold_bal)\n",
        "    scores_bal.append(accuracy_bal)\n",
        "\n",
        "    print(f\"Fold Accuracy: {accuracy_bal:.4f}\")\n",
        "\n",
        "print(f\"\\nMean CV Accuracy: {np.mean(scores_bal):.4f}\")"
      ],
      "metadata": {
        "id": "79lXlKBLyO0Z"
      },
      "execution_count": null,
      "outputs": []
    },
    {
      "cell_type": "code",
      "source": [
        "y_pred_bal = non_pca_bal_svm_gpu_2.predict(X_test_cp)\n",
        "y_pred_bal = cudf.Series(y_pred_bal)"
      ],
      "metadata": {
        "id": "M9TIlliF_JLz"
      },
      "execution_count": null,
      "outputs": []
    },
    {
      "cell_type": "code",
      "source": [
        "from sklearn.metrics import confusion_matrix\n",
        "import seaborn as sns\n",
        "import matplotlib.pyplot as plt\n",
        "y_pred_np = y_pred_bal.to_pandas().to_numpy()\n",
        "y_test_np = y_test_cp.get()\n",
        "cm_bal = confusion_matrix(y_test_np, y_pred_np)"
      ],
      "metadata": {
        "id": "AtOZKCWx_X4s"
      },
      "execution_count": null,
      "outputs": []
    },
    {
      "cell_type": "code",
      "source": [
        "print(cm_bal)"
      ],
      "metadata": {
        "id": "7bxlgRYQ_mPV"
      },
      "execution_count": null,
      "outputs": []
    },
    {
      "cell_type": "code",
      "source": [
        "from sklearn.metrics import classification_report\n",
        "report_bal = classification_report(y_test_np, y_pred_np, digits=4)\n",
        "print(report_bal)"
      ],
      "metadata": {
        "id": "9ivdBELo_p-W"
      },
      "execution_count": null,
      "outputs": []
    },
    {
      "cell_type": "code",
      "source": [
        "from sklearn.metrics import accuracy_score\n",
        "\n",
        "accuracy_bal = accuracy_score(y_test_np, y_pred_np)\n",
        "print(f\"Accuracy: {accuracy_bal:.4f}\")"
      ],
      "metadata": {
        "id": "O91dJL50_xUG"
      },
      "execution_count": null,
      "outputs": []
    },
    {
      "cell_type": "code",
      "source": [
        "from sklearn.metrics import precision_recall_curve\n",
        "from sklearn.preprocessing import label_binarize\n",
        "\n",
        "y_test_np = y_test_np.astype(int)\n",
        "y_pred_prob = pca_bal_svm_gpu.decision_function(X_test_cp)\n",
        "n_classes = len(np.unique(y_test_np))\n",
        "\n",
        "y_test_bin = label_binarize(y_test_np, classes=np.arange(n_classes))\n",
        "plt.figure(figsize=(8,6))\n",
        "for i in range(n_classes):\n",
        "    precision, recall, _ = precision_recall_curve(y_test_bin[:, i], y_pred_prob.get()[:, i])\n",
        "    plt.plot(recall, precision, label=f'Class {i}')\n",
        "\n",
        "plt.xlabel('Recall')\n",
        "plt.ylabel('Precision')\n",
        "plt.title('Precision-Recall Curve')\n",
        "plt.legend()\n",
        "plt.show()"
      ],
      "metadata": {
        "id": "NJfQrvb8Q8Lr"
      },
      "execution_count": null,
      "outputs": []
    }
  ]
}