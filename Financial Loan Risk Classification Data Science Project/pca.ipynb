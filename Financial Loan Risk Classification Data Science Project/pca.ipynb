{
  "nbformat": 4,
  "nbformat_minor": 0,
  "metadata": {
    "colab": {
      "provenance": [],
      "machine_shape": "hm",
      "gpuType": "A100"
    },
    "kernelspec": {
      "name": "python3",
      "display_name": "Python 3"
    },
    "language_info": {
      "name": "python"
    },
    "accelerator": "GPU"
  },
  "cells": [
    {
      "cell_type": "code",
      "execution_count": null,
      "metadata": {
        "id": "0NB50xZ3lcau"
      },
      "outputs": [],
      "source": [
        "import os\n",
        "os.environ[\"LC_ALL\"] = \"C.UTF-8\"\n",
        "os.environ[\"LANG\"] = \"C.UTF-8\"\n",
        "os.environ[\"PYTHONIOENCODING\"] = \"utf-8\""
      ]
    },
    {
      "cell_type": "code",
      "source": [
        "import cupy as cp\n",
        "print(\"CuPy Version:\", cp.__version__)\n",
        "print(\"CUDA Available:\", cp.cuda.is_available())\n",
        "print(\"GPU Compute Capability:\", cp.cuda.Device(0).compute_capability)"
      ],
      "metadata": {
        "id": "EVD7BYUdlnUd"
      },
      "execution_count": null,
      "outputs": []
    },
    {
      "cell_type": "code",
      "source": [
        "!apt-get update && apt-get install -y locales\n",
        "!locale-gen en_US.UTF-8\n",
        "!update-locale LANG=en_US.UTF-8"
      ],
      "metadata": {
        "id": "lO2Uc7lQltwq"
      },
      "execution_count": null,
      "outputs": []
    },
    {
      "cell_type": "code",
      "source": [
        "!pip install -q \"cuda-python<13.0a0,>=12.0\" \"numba>=0.59.1,<0.60\""
      ],
      "metadata": {
        "id": "q2k7mRABl1Ur"
      },
      "execution_count": null,
      "outputs": []
    },
    {
      "cell_type": "code",
      "source": [
        "!pip install -q \"cupy-cuda12x\" \"cudf-cu12\" \"cuml-cu12\" \"rmm-cu12\" \"pylibraft-cu12\" \"pylibcudf-cu12\" \\\n",
        "             \"dask\" \"dask-cuda\" \"dask-ml\" -f https://pypi.nvidia.com\n"
      ],
      "metadata": {
        "id": "amxPfZ8HVRlT"
      },
      "execution_count": null,
      "outputs": []
    },
    {
      "cell_type": "code",
      "source": [
        "!pip install -q pandas numpy scipy scikit-learn"
      ],
      "metadata": {
        "id": "1GPWIzdMmWBO"
      },
      "execution_count": null,
      "outputs": []
    },
    {
      "cell_type": "code",
      "source": [
        "import cupy as cp\n",
        "import cudf\n",
        "import cuml"
      ],
      "metadata": {
        "id": "Kw9A1i83mcrN"
      },
      "execution_count": null,
      "outputs": []
    },
    {
      "cell_type": "code",
      "source": [
        "import pandas as pd\n",
        "import numpy as np\n",
        "import matplotlib.pyplot as plt\n",
        "import seaborn as sns\n",
        "import sklearn as sk\n",
        "from cuml.svm import SVC\n",
        "import numpy as np\n",
        "import pandas as pd\n",
        "from sklearn.model_selection import train_test_split\n",
        "from cuml.model_selection import StratifiedKFold\n",
        "from cuml.preprocessing import LabelEncoder"
      ],
      "metadata": {
        "id": "6XFqV9FgmnmH"
      },
      "execution_count": null,
      "outputs": []
    },
    {
      "cell_type": "code",
      "source": [
        "import locale\n",
        "locale.getpreferredencoding = lambda: \"UTF-8\"\n",
        "print(\"Preferred Encoding:\", locale.getpreferredencoding())"
      ],
      "metadata": {
        "id": "OaFydQJpmqye"
      },
      "execution_count": null,
      "outputs": []
    },
    {
      "cell_type": "code",
      "source": [
        "file_path = \"loan_data.csv.csv\""
      ],
      "metadata": {
        "id": "V9rKUwtcm0X-"
      },
      "execution_count": null,
      "outputs": []
    },
    {
      "cell_type": "code",
      "source": [
        "loan_dataset_gpu = cudf.read_csv(file_path)"
      ],
      "metadata": {
        "id": "H5usPGwTm3R1"
      },
      "execution_count": null,
      "outputs": []
    },
    {
      "cell_type": "code",
      "source": [
        "grade_mapping = {\n",
        "    'A': 0,\n",
        "    'B': 1,\n",
        "    'C': 2,\n",
        "    'D': 3,\n",
        "    'E': 4,\n",
        "    'F': 5,\n",
        "    'G': 6\n",
        "}\n",
        "\n",
        "loan_dataset_gpu['grade'] = loan_dataset_gpu['grade'].map(grade_mapping)"
      ],
      "metadata": {
        "id": "y5MryFk8m7ai"
      },
      "execution_count": null,
      "outputs": []
    },
    {
      "cell_type": "code",
      "source": [
        "loan_dataset_gpu['grade'].value_counts()"
      ],
      "metadata": {
        "id": "Ml5BKvX1m_xF"
      },
      "execution_count": null,
      "outputs": []
    },
    {
      "cell_type": "code",
      "source": [
        "loan_dataset_gpu = loan_dataset_gpu.drop(columns=['sub_grade', 'id'])"
      ],
      "metadata": {
        "id": "WNsmqKL6nFC2"
      },
      "execution_count": null,
      "outputs": []
    },
    {
      "cell_type": "code",
      "source": [
        "loan_dataset_gpu_processed = loan_dataset_gpu.copy()"
      ],
      "metadata": {
        "id": "ni0OKAd0nHqS"
      },
      "execution_count": null,
      "outputs": []
    },
    {
      "cell_type": "code",
      "source": [
        "loan_dataset_gpu_processed.head()"
      ],
      "metadata": {
        "id": "5evWsdu3nWRu"
      },
      "execution_count": null,
      "outputs": []
    },
    {
      "cell_type": "code",
      "source": [
        "y = loan_dataset_gpu_processed[\"grade\"]\n",
        "X = loan_dataset_gpu_processed.drop(columns=['grade'])"
      ],
      "metadata": {
        "id": "oW7Zk_bFBBM8"
      },
      "execution_count": null,
      "outputs": []
    },
    {
      "cell_type": "code",
      "source": [
        "numerical_columns = X.select_dtypes(include=['int64', 'float64']).columns\n",
        "categorical_columns = X.select_dtypes(include=['object']).columns\n"
      ],
      "metadata": {
        "id": "n5pf5y_SBGCR"
      },
      "execution_count": null,
      "outputs": []
    },
    {
      "cell_type": "code",
      "source": [
        "import cupy as cp\n",
        "import cudf\n",
        "from cuml.preprocessing import StandardScaler\n",
        "from cuml.decomposition import PCA\n",
        "from imblearn.over_sampling import SMOTE  # CPU-based\n",
        "\n",
        "X = cudf.get_dummies(X, columns=categorical_columns)\n",
        "\n",
        "bool_columns = X.select_dtypes(include=['bool']).columns\n",
        "X[bool_columns] = X[bool_columns].astype(int)\n",
        "\n",
        "numerical_columns = X.select_dtypes(include=['int64', 'float64']).columns\n",
        "numerical_indices = [X.columns.get_loc(col) for col in numerical_columns]\n",
        "\n",
        "\n",
        "X = cp.array(X.to_numpy())\n",
        "y = cp.array(y.to_numpy()).ravel()\n",
        "\n",
        "\n",
        "num_samples = X.shape[0]\n",
        "split_idx = int(num_samples * 0.8)\n",
        "\n",
        "X_train, X_test = X[:split_idx], X[split_idx:]\n",
        "y_train, y_test = y[:split_idx], y[split_idx:]\n",
        "\n",
        "\n",
        "X_train_cpu = cp.asnumpy(X_train)\n",
        "y_train_cpu = cp.asnumpy(y_train)\n",
        "\n",
        "smote = SMOTE(random_state=42)\n",
        "X_train_resampled_cpu, y_train_resampled_cpu = smote.fit_resample(X_train_cpu, y_train_cpu)\n",
        "\n",
        "X_train_resampled = cp.array(X_train_resampled_cpu)\n",
        "y_train_resampled = cp.array(y_train_resampled_cpu)\n",
        "\n",
        "\n",
        "scaler = StandardScaler()\n",
        "\n",
        "\n",
        "\n",
        "\n",
        "X_train_resampled[:, numerical_indices] = scaler.fit_transform(X_train_resampled[:, numerical_indices])\n",
        "X_test[:, numerical_indices] = scaler.transform(X_test[:, numerical_indices])"
      ],
      "metadata": {
        "id": "i74Zb3CMI6i1"
      },
      "execution_count": null,
      "outputs": []
    },
    {
      "cell_type": "code",
      "source": [
        "X_train_resampled = cudf.DataFrame(X_train_resampled, columns=numerical_columns)\n",
        "X_test = cudf.DataFrame(X_test, columns=numerical_columns)\n"
      ],
      "metadata": {
        "id": "5mxspfH-QmYV"
      },
      "execution_count": null,
      "outputs": []
    },
    {
      "cell_type": "code",
      "source": [
        "from cuml.decomposition import PCA\n",
        "pca = PCA()\n",
        "X_train_pca = pca.fit_transform(X_train_resampled)\n",
        "X_test_pca = pca.transform(X_test)"
      ],
      "metadata": {
        "id": "a1wcFYAUJHDt"
      },
      "execution_count": null,
      "outputs": []
    },
    {
      "cell_type": "code",
      "source": [
        "\n",
        "\n",
        "feature_columns = numerical_columns\n",
        "pca_components_np = pca.components_.to_numpy()\n",
        "explained_variance_np = pca.explained_variance_ratio_.to_numpy()\n",
        "\n",
        "feature_importance_df = pd.DataFrame(\n",
        "    data=pca_components_np.T,\n",
        "    index=feature_columns,\n",
        "    columns=[f'PC{i+1}' for i in range(pca_components_np.shape[0])]\n",
        ")\n",
        "feature_importance = feature_importance_df.abs().sum(axis=1)"
      ],
      "metadata": {
        "id": "LFfZpP0wMD6z"
      },
      "execution_count": null,
      "outputs": []
    },
    {
      "cell_type": "code",
      "source": [
        "top_40_features = list(feature_importance.nlargest(40).index)\n",
        "print(top_40_features)"
      ],
      "metadata": {
        "id": "bXK1OTxMMbH6"
      },
      "execution_count": null,
      "outputs": []
    },
    {
      "cell_type": "code",
      "source": [
        "X_train_resampled = X_train_resampled[top_40_features]\n",
        "X_test = X_test[top_40_features]"
      ],
      "metadata": {
        "id": "aAo298aMSvBc"
      },
      "execution_count": null,
      "outputs": []
    },
    {
      "cell_type": "code",
      "source": [
        "X_train_cudf = cudf.DataFrame(X_train_resampled)\n",
        "X_test_cudf = cudf.DataFrame(X_test)\n",
        "\n",
        "X_train_bal_cp =  X_train_cudf.to_cupy().astype(cp.float32)\n",
        "X_test_bal_cp = X_test_cudf.to_cupy().astype(cp.float32)"
      ],
      "metadata": {
        "id": "4bMjIRwcuxtc"
      },
      "execution_count": null,
      "outputs": []
    },
    {
      "cell_type": "code",
      "source": [
        "y_train_cudf = cudf.Series(y_train_resampled)\n",
        "y_test_cudf = cudf.Series(y_test)\n",
        "\n",
        "y_train_bal_cp = y_train_cudf.to_cupy()\n",
        "\n",
        "y_test_bal_cp = y_test_cudf.to_cupy()"
      ],
      "metadata": {
        "id": "A7kIV6cWu8Ww"
      },
      "execution_count": null,
      "outputs": []
    },
    {
      "cell_type": "code",
      "source": [
        "num_folds_bal = 10\n",
        "kf_bal = StratifiedKFold(n_splits=num_folds_bal, shuffle=True)\n",
        "scores_bal = []\n",
        "log_loss_bal = []"
      ],
      "metadata": {
        "id": "tgjFC3ZuTtVF"
      },
      "execution_count": null,
      "outputs": []
    },
    {
      "cell_type": "code",
      "source": [
        "from cuml.multiclass import OneVsRestClassifier\n",
        "from sklearn.preprocessing import label_binarize\n",
        "from sklearn.metrics import log_loss\n",
        "from scipy.special import softmax\n",
        "\n",
        "\n",
        "pca_bal_svm_model = SVC(kernel=\"rbf\",  C=1.0, class_weight=\"balanced\", gamma='scale')\n",
        "pca_bal_svm_gpu = OneVsRestClassifier(pca_bal_svm_model)\n",
        "\n",
        "for train_index_bal, val_index_bal in kf_bal.split(X_train_bal_cp, y_train_bal_cp):\n",
        "    X_train_fold_bal, X_val_fold_bal = X_train_bal_cp[train_index_bal], X_train_bal_cp[val_index_bal]\n",
        "    y_train_fold_bal, y_val_fold_bal = y_train_bal_cp[train_index_bal], y_train_bal_cp[val_index_bal]\n",
        "\n",
        "\n",
        "\n",
        "    pca_bal_svm_gpu.fit(X_train_fold_bal, y_train_fold_bal)\n",
        "    y_val_fold_bal = y_val_fold_bal.astype(int)\n",
        "\n",
        "    y_val_fold_scores = pca_bal_svm_gpu.decision_function(X_val_fold_bal)\n",
        "    y_val_fold_scores_np = y_val_fold_scores.get()\n",
        "    y_val_fold_prob = softmax(y_val_fold_scores_np, axis=1)\n",
        "    y_val_fold_bal_np = y_val_fold_bal.get() if hasattr(y_val_fold_bal, \"get\") else np.array(y_val_fold_bal)\n",
        "    n_classes = len(np.unique(y_val_fold_bal))\n",
        "    y_val_fold_bal_bin = label_binarize( y_val_fold_bal_np, classes=np.arange(n_classes))\n",
        "    log_loss_value = log_loss(y_val_fold_bal_bin, y_val_fold_prob)\n",
        "    log_loss_bal.append(log_loss_value)\n",
        "\n",
        "\n",
        "    accuracy_bal = pca_bal_svm_gpu.score(X_val_fold_bal, y_val_fold_bal)\n",
        "    scores_bal.append(accuracy_bal)\n",
        "\n",
        "    print(f\"Fold Accuracy: {accuracy_bal:.4f}\" , f\"Fold Log Loss:{log_loss_value:.4f}\")\n",
        "\n",
        "\n",
        "print(f\"\\nMean CV Accuracy: {np.mean(scores_bal):.4f}\")"
      ],
      "metadata": {
        "id": "kJeM7DQsvL48"
      },
      "execution_count": null,
      "outputs": []
    },
    {
      "cell_type": "code",
      "source": [
        "y_pred_bal = pca_bal_svm_gpu.predict(X_test_bal_cp)\n",
        "y_pred_bal = cudf.Series(y_pred_bal)"
      ],
      "metadata": {
        "id": "Z84hwAtQT2Fz"
      },
      "execution_count": null,
      "outputs": []
    },
    {
      "cell_type": "code",
      "source": [
        "from sklearn.metrics import confusion_matrix\n",
        "import seaborn as sns\n",
        "import matplotlib.pyplot as plt\n",
        "y_pred_np_bal = y_pred_bal.to_pandas().to_numpy()\n",
        "y_test_np_bal = y_test_bal_cp.get()\n",
        "cm_bal = confusion_matrix(y_test_np_bal, y_pred_np_bal)"
      ],
      "metadata": {
        "id": "goandCKMT9pr"
      },
      "execution_count": null,
      "outputs": []
    },
    {
      "cell_type": "code",
      "source": [
        "print(cm_bal)"
      ],
      "metadata": {
        "id": "8I0EcSRxUCk9"
      },
      "execution_count": null,
      "outputs": []
    },
    {
      "cell_type": "code",
      "source": [
        "from sklearn.metrics import classification_report\n",
        "report_bal = classification_report(y_test_np_bal, y_pred_np_bal, digits=4)\n",
        "print(report_bal)"
      ],
      "metadata": {
        "id": "mjZbTqsLUEGz"
      },
      "execution_count": null,
      "outputs": []
    },
    {
      "cell_type": "code",
      "source": [
        "from sklearn.metrics import precision_recall_curve\n",
        "from sklearn.preprocessing import label_binarize\n",
        "\n",
        "y_test_np_bal = y_test_np_bal.astype(int)\n",
        "y_pred_prob_bal = pca_bal_svm_gpu.decision_function(X_test_bal_cp)\n",
        "n_classes = len(np.unique(y_test_np_bal))\n",
        "\n",
        "y_test_bin = label_binarize(y_test_np_bal, classes=np.arange(n_classes))\n",
        "plt.figure(figsize=(8,6))\n",
        "for i in range(n_classes):\n",
        "    precision, recall, _ = precision_recall_curve(y_test_bin[:, i], y_pred_prob_bal.get()[:, i])\n",
        "    plt.plot(recall, precision, label=f'Class {i}')\n",
        "\n",
        "plt.xlabel('Recall')\n",
        "plt.ylabel('Precision')\n",
        "plt.title('Precision-Recall Curve')\n",
        "plt.legend()\n",
        "plt.show()"
      ],
      "metadata": {
        "id": "O54AxhucUOEH"
      },
      "execution_count": null,
      "outputs": []
    }
  ]
}